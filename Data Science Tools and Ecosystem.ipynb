{
 "cells": [
  {
   "cell_type": "markdown",
   "id": "e71ca2e5",
   "metadata": {},
   "source": [
    "# Data Science Tools and Ecosystem"
   ]
  },
  {
   "cell_type": "markdown",
   "id": "4198558b",
   "metadata": {},
   "source": [
    "# In this notebook, Data Science Tools and Ecosystem are summarized."
   ]
  },
  {
   "cell_type": "markdown",
   "id": "cd0cfa29",
   "metadata": {},
   "source": [
    "# Some of the popular languages that Data Scientists use are:"
   ]
  },
  {
   "cell_type": "code",
   "execution_count": 1,
   "id": "482a20e9",
   "metadata": {},
   "outputs": [],
   "source": [
    "languages = [\n",
    "    \"Python\",\n",
    "    \"R\",\n",
    "    \"SQL\",\n",
    "    \"Julia\",\n",
    "    \"Scala\"\n",
    "]"
   ]
  },
  {
   "cell_type": "markdown",
   "id": "08347e42",
   "metadata": {},
   "source": [
    "# Some of the commonly used libraries used by Data Scientists include:"
   ]
  },
  {
   "cell_type": "code",
   "execution_count": 2,
   "id": "e904b685",
   "metadata": {},
   "outputs": [],
   "source": [
    "libraries = [\n",
    "    \"NumPy\",\n",
    "    \"Pandas\",\n",
    "    \"Matplotlib\",\n",
    "    \"Scikit-learn\",\n",
    "    \"TensorFlow\"\n",
    "]"
   ]
  },
  {
   "cell_type": "markdown",
   "id": "1a151a4d",
   "metadata": {},
   "source": [
    "# Data Science Tools"
   ]
  },
  {
   "cell_type": "code",
   "execution_count": 3,
   "id": "67ed68fb",
   "metadata": {},
   "outputs": [],
   "source": [
    "table = [\n",
    "    [\"Data Science Tools\"],\n",
    "    [\"Jupyter Notebook\"],\n",
    "    [\"RStudio\"],\n",
    "    [\"Visual Studio Code\"]\n",
    "]"
   ]
  },
  {
   "cell_type": "markdown",
   "id": "baf4d5ba",
   "metadata": {},
   "source": [
    "### Below are a few examples of evaluating arithmetic expressions in Python"
   ]
  },
  {
   "cell_type": "code",
   "execution_count": 4,
   "id": "52febc9f",
   "metadata": {},
   "outputs": [
    {
     "name": "stdout",
     "output_type": "stream",
     "text": [
      "17\n"
     ]
    }
   ],
   "source": [
    "# This a simple arithmetic expression to mutiply then add integers\n",
    "a = (3*4)+5\n",
    "print(a)"
   ]
  },
  {
   "cell_type": "code",
   "execution_count": 5,
   "id": "1c3e2b86",
   "metadata": {},
   "outputs": [
    {
     "name": "stdout",
     "output_type": "stream",
     "text": [
      "3.3333333333333335\n"
     ]
    }
   ],
   "source": [
    "#This will convert 200 minutes to hours by diving by 60\n",
    "b = 200/60\n",
    "print(b)"
   ]
  },
  {
   "cell_type": "markdown",
   "id": "138ca4a8",
   "metadata": {},
   "source": [
    "# Objectives:"
   ]
  },
  {
   "cell_type": "code",
   "execution_count": 6,
   "id": "1223eee7",
   "metadata": {},
   "outputs": [],
   "source": [
    "libraries = [\n",
    "    \"NumPy\",\n",
    "    \"Pandas\",\n",
    "    \"Matplotlib\",\n",
    "    \"Scikit-learn\",\n",
    "    \"TensorFlow\"\n",
    "]"
   ]
  },
  {
   "cell_type": "markdown",
   "id": "363d30fe",
   "metadata": {},
   "source": [
    "## AUTHOR\n",
    "## SRIJAN SAHU"
   ]
  },
  {
   "cell_type": "code",
   "execution_count": null,
   "id": "21f63c58",
   "metadata": {},
   "outputs": [],
   "source": []
  }
 ],
 "metadata": {
  "kernelspec": {
   "display_name": "Python 3 (ipykernel)",
   "language": "python",
   "name": "python3"
  },
  "language_info": {
   "codemirror_mode": {
    "name": "ipython",
    "version": 3
   },
   "file_extension": ".py",
   "mimetype": "text/x-python",
   "name": "python",
   "nbconvert_exporter": "python",
   "pygments_lexer": "ipython3",
   "version": "3.10.5"
  }
 },
 "nbformat": 4,
 "nbformat_minor": 5
}
